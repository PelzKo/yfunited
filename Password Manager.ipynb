{
 "cells": [
  {
   "cell_type": "code",
   "execution_count": 1,
   "id": "325555e6",
   "metadata": {},
   "outputs": [],
   "source": [
    "import random\n",
    "import string"
   ]
  },
  {
   "cell_type": "code",
   "execution_count": 2,
   "id": "f04d607c",
   "metadata": {},
   "outputs": [],
   "source": [
    "password_length = 15\n",
    "\n",
    "#Definition von allen verwendeten Zeichen\n",
    "lower = string.ascii_lowercase\n",
    "upper = string.ascii_uppercase\n",
    "num = string.digits\n",
    "symbols = string.punctuation\n",
    "\n",
    "#Kreirung einer Variable, in der alles drin ist\n",
    "all_symbols = lower + upper + num + symbols"
   ]
  },
  {
   "cell_type": "code",
   "execution_count": 3,
   "id": "35eec6f6",
   "metadata": {},
   "outputs": [],
   "source": [
    "def generate_password(length=password_length):\n",
    "    #Nutzung der \"random\" library um zufällig mit Zurücklegen zu ziehen \n",
    "    temp = random.sample(all_symbols,length)\n",
    "    #Zusammenfügen in einen String (Zeichenkette)\n",
    "    password = \"\".join(temp)\n",
    "    return password"
   ]
  },
  {
   "cell_type": "code",
   "execution_count": 4,
   "id": "42ee7c69",
   "metadata": {},
   "outputs": [],
   "source": [
    "def write_to_password_manager(site,username,password):\n",
    "    #line = '{}\\t{}\\t{}'.format(site,username,password)\n",
    "    line = site+\"\\t\"+username+\"\\t\"+password\n",
    "    with open(\"passwords.txt\",\"a\") as file:\n",
    "        file.write(line+\"\\n\")\n",
    "    return True"
   ]
  },
  {
   "cell_type": "code",
   "execution_count": 5,
   "id": "1ae5c3db",
   "metadata": {
    "scrolled": true
   },
   "outputs": [],
   "source": [
    "def print_all_passwords():\n",
    "    with open(\"passwords.txt\",\"r\") as file:\n",
    "        for line in file:\n",
    "            print(line)"
   ]
  },
  {
   "cell_type": "code",
   "execution_count": 6,
   "id": "de1687d6",
   "metadata": {
    "scrolled": true
   },
   "outputs": [],
   "source": [
    "def print_all_passwords_of_site(site):\n",
    "    with open(\"passwords.txt\",\"r\") as file:\n",
    "        for line in file:\n",
    "            linesplit = line.split(\"\\t\")\n",
    "            if linesplit[0]==site:\n",
    "                print(line)"
   ]
  },
  {
   "cell_type": "code",
   "execution_count": 7,
   "id": "48f298cb",
   "metadata": {
    "scrolled": true
   },
   "outputs": [],
   "source": [
    "def print_all_passwords_of_user(user):\n",
    "    with open(\"passwords.txt\",\"r\") as file:\n",
    "        for line in file:\n",
    "            linesplit = line.split(\"\\t\")\n",
    "            if linesplit[1]==user:\n",
    "                print(line)"
   ]
  },
  {
   "cell_type": "code",
   "execution_count": 8,
   "id": "48dce1bc",
   "metadata": {},
   "outputs": [
    {
     "data": {
      "text/plain": [
       "'!daK.P&XZuxkTl+'"
      ]
     },
     "execution_count": 8,
     "metadata": {},
     "output_type": "execute_result"
    }
   ],
   "source": [
    "generate_password()"
   ]
  },
  {
   "cell_type": "code",
   "execution_count": 9,
   "id": "d4c2b392",
   "metadata": {},
   "outputs": [
    {
     "data": {
      "text/plain": [
       "True"
      ]
     },
     "execution_count": 9,
     "metadata": {},
     "output_type": "execute_result"
    }
   ],
   "source": [
    "write_to_password_manager(\"youtube.com\",\"konstip\",generate_password())"
   ]
  },
  {
   "cell_type": "code",
   "execution_count": 10,
   "id": "701a3894",
   "metadata": {},
   "outputs": [
    {
     "data": {
      "text/plain": [
       "True"
      ]
     },
     "execution_count": 10,
     "metadata": {},
     "output_type": "execute_result"
    }
   ],
   "source": [
    "write_to_password_manager(\"google.com\",\"pelzko\",generate_password())"
   ]
  },
  {
   "cell_type": "code",
   "execution_count": 11,
   "id": "d1066855",
   "metadata": {},
   "outputs": [
    {
     "name": "stdout",
     "output_type": "stream",
     "text": [
      "youtube.com\tkonstip\tECc?GdBPR0$g|4k\n",
      "\n",
      "google.com\tpelzko\tODb7/Qul&PUdZMr\n",
      "\n"
     ]
    }
   ],
   "source": [
    "print_all_passwords()"
   ]
  },
  {
   "cell_type": "code",
   "execution_count": 12,
   "id": "41e87ad9",
   "metadata": {},
   "outputs": [
    {
     "name": "stdout",
     "output_type": "stream",
     "text": [
      "youtube.com\tkonstip\tECc?GdBPR0$g|4k\n",
      "\n"
     ]
    }
   ],
   "source": [
    "print_all_passwords_of_site(\"youtube.com\")"
   ]
  }
 ],
 "metadata": {
  "kernelspec": {
   "display_name": "Python 3",
   "language": "python",
   "name": "python3"
  },
  "language_info": {
   "codemirror_mode": {
    "name": "ipython",
    "version": 3
   },
   "file_extension": ".py",
   "mimetype": "text/x-python",
   "name": "python",
   "nbconvert_exporter": "python",
   "pygments_lexer": "ipython3",
   "version": "3.8.2"
  }
 },
 "nbformat": 4,
 "nbformat_minor": 5
}
